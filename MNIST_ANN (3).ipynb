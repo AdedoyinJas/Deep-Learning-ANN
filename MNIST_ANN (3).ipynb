{
 "cells": [
  {
   "cell_type": "code",
   "execution_count": 1,
   "metadata": {
    "id": "9YSPc_Tk8QqR"
   },
   "outputs": [],
   "source": [
    "import numpy as np\n",
    "import pandas as pd\n",
    "import matplotlib.pyplot as plt\n",
    "import seaborn as sns\n",
    "\n",
    "%matplotlib inline"
   ]
  },
  {
   "cell_type": "code",
   "execution_count": 2,
   "metadata": {
    "id": "mLtTuLus8pYi"
   },
   "outputs": [],
   "source": [
    "from tensorflow.keras.models import Sequential\n",
    "from tensorflow.keras.layers import Dense,Dropout, Flatten\n",
    "from sklearn.metrics import f1_score, roc_auc_score, accuracy_score\n",
    "from sklearn.preprocessing import MinMaxScaler\n",
    "from tensorflow.keras import datasets"
   ]
  },
  {
   "cell_type": "code",
   "execution_count": 3,
   "metadata": {
    "id": "Ta8POEje9TGP"
   },
   "outputs": [],
   "source": [
    "mnist = datasets.mnist"
   ]
  },
  {
   "cell_type": "code",
   "execution_count": 4,
   "metadata": {
    "colab": {
     "base_uri": "https://localhost:8080/"
    },
    "id": "KbvUQtY89fg2",
    "outputId": "cde19cbd-2ce6-4485-9641-162c5d2582fd"
   },
   "outputs": [
    {
     "name": "stdout",
     "output_type": "stream",
     "text": [
      "Downloading data from https://storage.googleapis.com/tensorflow/tf-keras-datasets/mnist.npz\n",
      "11493376/11490434 [==============================] - 0s 0us/step\n",
      "(60000, 28, 28) (60000,)\n"
     ]
    },
    {
     "data": {
      "text/plain": [
       "(None, ((10000, 28, 28), (10000,)))"
      ]
     },
     "execution_count": 4,
     "metadata": {
      "tags": []
     },
     "output_type": "execute_result"
    }
   ],
   "source": [
    "(X_train , y_train) , (X_test, y_test) = mnist.load_data()\n",
    "\n",
    "print (X_train.shape , y_train.shape) , (X_test.shape, y_test.shape)"
   ]
  },
  {
   "cell_type": "code",
   "execution_count": 5,
   "metadata": {
    "id": "OfckqMEz98Vh"
   },
   "outputs": [],
   "source": [
    "X_train = X_train.reshape(60000, 784)\n",
    "X_test = X_test.reshape(10000, 784)"
   ]
  },
  {
   "cell_type": "code",
   "execution_count": 6,
   "metadata": {
    "id": "rbz3qPHk-nPh"
   },
   "outputs": [],
   "source": [
    "from sklearn.preprocessing import MinMaxScaler\n",
    "scaler = MinMaxScaler()\n",
    "X_train = scaler.fit_transform(X_train)\n",
    "X_test = scaler.transform(X_test)"
   ]
  },
  {
   "cell_type": "code",
   "execution_count": 8,
   "metadata": {
    "colab": {
     "base_uri": "https://localhost:8080/"
    },
    "id": "-D0_A-Xl5FUh",
    "outputId": "1b1e49ac-25c4-4522-a15d-9c0773d02550"
   },
   "outputs": [
    {
     "name": "stdout",
     "output_type": "stream",
     "text": [
      "Number of unique classes :  10\n",
      "classes:  [0 1 2 3 4 5 6 7 8 9]\n"
     ]
    }
   ],
   "source": [
    "print('Number of unique classes : ' , len(np.unique(y_train)))\n",
    "print('classes: ' , np.unique(y_train))"
   ]
  },
  {
   "cell_type": "code",
   "execution_count": 14,
   "metadata": {
    "colab": {
     "base_uri": "https://localhost:8080/",
     "height": 336
    },
    "id": "qMaDSh1s5lLV",
    "outputId": "df49a9b4-fcee-4561-bfd6-cd5578bca0f8"
   },
   "outputs": [
    {
     "data": {
      "image/png": "[encoded data removed]",
      "text/plain": [
       "<Figure size 1080x360 with 10 Axes>"
      ]
     },
     "metadata": {
      "needs_background": "light",
      "tags": []
     },
     "output_type": "display_data"
    }
   ],
   "source": [
    "fig , axes = plt.subplots(nrows = 2 , ncols = 5 , figsize = (15,5))\n",
    "ax = axes.ravel()\n",
    "for i in range(10):\n",
    "    ax[1].imshow(X_train[i].reshape(28,28), cmap = 'gray')\n",
    "    ax[i].title.set_text('class:' + str(y_train[i]))\n",
    "plt.subplots_adjust(hspace = 0.5)\n",
    "plt.show()   "
   ]
  },
  {
   "cell_type": "code",
   "execution_count": 16,
   "metadata": {
    "colab": {
     "base_uri": "https://localhost:8080/"
    },
    "id": "78436ylQ6oIn",
    "outputId": "de1fb81f-d34b-4d3a-80d8-964641965885"
   },
   "outputs": [
    {
     "data": {
      "text/plain": [
       "(28, 28)"
      ]
     },
     "execution_count": 16,
     "metadata": {
      "tags": []
     },
     "output_type": "execute_result"
    }
   ],
   "source": [
    "img = np.squeeze(X_train[7].reshape(28,28))\n",
    "img.shape"
   ]
  },
  {
   "cell_type": "code",
   "execution_count": 72,
   "metadata": {
    "colab": {
     "base_uri": "https://localhost:8080/",
     "height": 129
    },
    "id": "B-JQadn28Gum",
    "outputId": "3fe6161b-0be5-462b-e4ef-0520a2437ff5"
   },
   "outputs": [
    {
     "ename": "SyntaxError",
     "evalue": "ignored",
     "output_type": "error",
     "traceback": [
      "\u001b[0;36m  File \u001b[0;32m\"<ipython-input-72-b867e7e75218>\"\u001b[0;36m, line \u001b[0;32m13\u001b[0m\n\u001b[0;31m    color='white' if img[x][y]<thresh else 'black')\u001b[0m\n\u001b[0m                                                  ^\u001b[0m\n\u001b[0;31mSyntaxError\u001b[0m\u001b[0;31m:\u001b[0m invalid syntax\n"
     ]
    }
   ],
   "source": [
    "fig = plt.figure(figure = (12,12))\n",
    "ax = fig.add_subplot(111)\n",
    "ax.imshow(img, cmap = 'gray')\n",
    "width , height = img.shape\n",
    "thresh = img.max()/2.5\n",
    "\n",
    "for x in range(width):\n",
    "  for y in range(height):\n",
    "    val = round(img[x][y],2) if img[x][y] != 0 else 0\n",
    "    ax.annotate(str(val) , xy = (y,x)),\n",
    "    horizontalaligment ='center',\n",
    "    verticalalignment = 'center',\n",
    "    color='white' if img[x][y]<thresh else 'black')"
   ]
  },
  {
   "cell_type": "code",
   "execution_count": 34,
   "metadata": {
    "id": "g9ZpgBF195Mj"
   },
   "outputs": [],
   "source": [
    "model = Sequential() \n",
    "\n",
    "model.add(Dense(400, activation = 'relu' ,input_dim = X_train.shape[1]))\n",
    "model.add(Dense(256, activation = 'relu'))\n",
    "model.add(Dense(128, activation = 'relu'))\n",
    "model.add(Dense(64, activation = 'relu'))\n",
    "           \n",
    "model.add(Dense(10 , activation = 'softmax'))\n",
    "           \n",
    "model.compile(optimizer = 'adam' , loss = 'sparse_categorical_crossentropy' , metrics = ['accuracy'])"
   ]
  },
  {
   "cell_type": "code",
   "execution_count": 36,
   "metadata": {
    "colab": {
     "base_uri": "https://localhost:8080/"
    },
    "id": "3Ilb4Lx9BaII",
    "outputId": "714f6a3f-6140-42bb-eee0-d5526325641a"
   },
   "outputs": [
    {
     "name": "stdout",
     "output_type": "stream",
     "text": [
      "Model: \"sequential_1\"\n",
      "_________________________________________________________________\n",
      "Layer (type)                 Output Shape              Param #   \n",
      "=================================================================\n",
      "dense_5 (Dense)              (None, 400)               314000    \n",
      "_________________________________________________________________\n",
      "dense_6 (Dense)              (None, 256)               102656    \n",
      "_________________________________________________________________\n",
      "dense_7 (Dense)              (None, 128)               32896     \n",
      "_________________________________________________________________\n",
      "dense_8 (Dense)              (None, 64)                8256      \n",
      "_________________________________________________________________\n",
      "dense_9 (Dense)              (None, 10)                650       \n",
      "=================================================================\n",
      "Total params: 458,458\n",
      "Trainable params: 458,458\n",
      "Non-trainable params: 0\n",
      "_________________________________________________________________\n"
     ]
    }
   ],
   "source": [
    "model.summary()"
   ]
  },
  {
   "cell_type": "code",
   "execution_count": 44,
   "metadata": {
    "colab": {
     "base_uri": "https://localhost:8080/"
    },
    "id": "N2JkntTlCABq",
    "outputId": "1187a90c-8e51-480a-d711-d6196a74b6ff"
   },
   "outputs": [
    {
     "name": "stdout",
     "output_type": "stream",
     "text": [
      "Epoch 1/5\n",
      "1875/1875 [==============================] - 10s 5ms/step - loss: 0.0538 - accuracy: 0.9838 - val_loss: 0.1008 - val_accuracy: 0.9719\n",
      "Epoch 2/5\n",
      "1875/1875 [==============================] - 10s 5ms/step - loss: 0.0438 - accuracy: 0.9868 - val_loss: 0.0846 - val_accuracy: 0.9779\n",
      "Epoch 3/5\n",
      "1875/1875 [==============================] - 10s 5ms/step - loss: 0.0376 - accuracy: 0.9890 - val_loss: 0.0839 - val_accuracy: 0.9769\n",
      "Epoch 4/5\n",
      "1875/1875 [==============================] - 10s 5ms/step - loss: 0.0332 - accuracy: 0.9897 - val_loss: 0.0785 - val_accuracy: 0.9770\n",
      "Epoch 5/5\n",
      "1875/1875 [==============================] - 10s 5ms/step - loss: 0.0283 - accuracy: 0.9918 - val_loss: 0.0807 - val_accuracy: 0.9806\n"
     ]
    },
    {
     "data": {
      "text/plain": [
       "<tensorflow.python.keras.callbacks.History at 0x7f6dfc1a5e10>"
      ]
     },
     "execution_count": 44,
     "metadata": {
      "tags": []
     },
     "output_type": "execute_result"
    }
   ],
   "source": [
    "#from tensorflow.keras.callbacks import Earlystopping\n",
    "#early_stop = Earlystopping(monitor = 'val_loss' , patience = 20)\n",
    "model.fit(X_train, y_train, epochs = 5 , verbose = 1 , validation_data = (X_test , y_test)) #, callbacks = [early_stop])"
   ]
  },
  {
   "cell_type": "code",
   "execution_count": 50,
   "metadata": {
    "colab": {
     "base_uri": "https://localhost:8080/"
    },
    "id": "dDKoVRA9CkDb",
    "outputId": "86293132-d08f-4a08-a922-e5a4b7debb10"
   },
   "outputs": [
    {
     "data": {
      "text/plain": [
       "{'accuracy': [0.9837999939918518,\n",
       "  0.9868333339691162,\n",
       "  0.9890499711036682,\n",
       "  0.9896833300590515,\n",
       "  0.9917833209037781],\n",
       " 'loss': [0.05376342311501503,\n",
       "  0.04379609227180481,\n",
       "  0.037643734365701675,\n",
       "  0.033152058720588684,\n",
       "  0.02832849696278572],\n",
       " 'val_accuracy': [0.9718999862670898,\n",
       "  0.9779000282287598,\n",
       "  0.9768999814987183,\n",
       "  0.9769999980926514,\n",
       "  0.9805999994277954],\n",
       " 'val_loss': [0.1008324921131134,\n",
       "  0.08459363132715225,\n",
       "  0.08389690518379211,\n",
       "  0.0784633457660675,\n",
       "  0.08065516501665115]}"
      ]
     },
     "execution_count": 50,
     "metadata": {
      "tags": []
     },
     "output_type": "execute_result"
    }
   ],
   "source": [
    " model.history.history\n"
   ]
  },
  {
   "cell_type": "code",
   "execution_count": 52,
   "metadata": {
    "colab": {
     "base_uri": "https://localhost:8080/",
     "height": 204
    },
    "id": "7H4egb9QE92-",
    "outputId": "551f4681-627b-47be-f5dd-52724902f37a"
   },
   "outputs": [
    {
     "data": {
      "text/html": [
       "<div>\n",
       "<style scoped>\n",
       "    .dataframe tbody tr th:only-of-type {\n",
       "        vertical-align: middle;\n",
       "    }\n",
       "\n",
       "    .dataframe tbody tr th {\n",
       "        vertical-align: top;\n",
       "    }\n",
       "\n",
       "    .dataframe thead th {\n",
       "        text-align: right;\n",
       "    }\n",
       "</style>\n",
       "<table border=\"1\" class=\"dataframe\">\n",
       "  <thead>\n",
       "    <tr style=\"text-align: right;\">\n",
       "      <th></th>\n",
       "      <th>loss</th>\n",
       "      <th>accuracy</th>\n",
       "      <th>val_loss</th>\n",
       "      <th>val_accuracy</th>\n",
       "    </tr>\n",
       "  </thead>\n",
       "  <tbody>\n",
       "    <tr>\n",
       "      <th>0</th>\n",
       "      <td>0.053763</td>\n",
       "      <td>0.983800</td>\n",
       "      <td>0.100832</td>\n",
       "      <td>0.9719</td>\n",
       "    </tr>\n",
       "    <tr>\n",
       "      <th>1</th>\n",
       "      <td>0.043796</td>\n",
       "      <td>0.986833</td>\n",
       "      <td>0.084594</td>\n",
       "      <td>0.9779</td>\n",
       "    </tr>\n",
       "    <tr>\n",
       "      <th>2</th>\n",
       "      <td>0.037644</td>\n",
       "      <td>0.989050</td>\n",
       "      <td>0.083897</td>\n",
       "      <td>0.9769</td>\n",
       "    </tr>\n",
       "    <tr>\n",
       "      <th>3</th>\n",
       "      <td>0.033152</td>\n",
       "      <td>0.989683</td>\n",
       "      <td>0.078463</td>\n",
       "      <td>0.9770</td>\n",
       "    </tr>\n",
       "    <tr>\n",
       "      <th>4</th>\n",
       "      <td>0.028328</td>\n",
       "      <td>0.991783</td>\n",
       "      <td>0.080655</td>\n",
       "      <td>0.9806</td>\n",
       "    </tr>\n",
       "  </tbody>\n",
       "</table>\n",
       "</div>"
      ],
      "text/plain": [
       "       loss  accuracy  val_loss  val_accuracy\n",
       "0  0.053763  0.983800  0.100832        0.9719\n",
       "1  0.043796  0.986833  0.084594        0.9779\n",
       "2  0.037644  0.989050  0.083897        0.9769\n",
       "3  0.033152  0.989683  0.078463        0.9770\n",
       "4  0.028328  0.991783  0.080655        0.9806"
      ]
     },
     "execution_count": 52,
     "metadata": {
      "tags": []
     },
     "output_type": "execute_result"
    }
   ],
   "source": [
    "losses = pd.DataFrame(model.history.history)\n",
    "losses"
   ]
  },
  {
   "cell_type": "code",
   "execution_count": 54,
   "metadata": {
    "colab": {
     "base_uri": "https://localhost:8080/",
     "height": 282
    },
    "id": "1kSKqNuMFXs-",
    "outputId": "bd780a64-1a25-49d8-ae0e-58a9b81310b8"
   },
   "outputs": [
    {
     "data": {
      "text/plain": [
       "<matplotlib.axes._subplots.AxesSubplot at 0x7f6dfe224978>"
      ]
     },
     "execution_count": 54,
     "metadata": {
      "tags": []
     },
     "output_type": "execute_result"
    },
    {
     "data": {
      "image/png": "[encoded data removed]",
      "text/plain": [
       "<Figure size 432x288 with 1 Axes>"
      ]
     },
     "metadata": {
      "needs_background": "light",
      "tags": []
     },
     "output_type": "display_data"
    }
   ],
   "source": [
    "losses.plot()"
   ]
  },
  {
   "cell_type": "code",
   "execution_count": 63,
   "metadata": {
    "colab": {
     "base_uri": "https://localhost:8080/",
     "height": 80
    },
    "id": "1VIiSeI2FdFZ",
    "outputId": "1ea027cf-ccab-45ad-ec5e-493e4b3a3a4a"
   },
   "outputs": [
    {
     "data": {
      "text/html": [
       "<div>\n",
       "<style scoped>\n",
       "    .dataframe tbody tr th:only-of-type {\n",
       "        vertical-align: middle;\n",
       "    }\n",
       "\n",
       "    .dataframe tbody tr th {\n",
       "        vertical-align: top;\n",
       "    }\n",
       "\n",
       "    .dataframe thead th {\n",
       "        text-align: right;\n",
       "    }\n",
       "</style>\n",
       "<table border=\"1\" class=\"dataframe\">\n",
       "  <thead>\n",
       "    <tr style=\"text-align: right;\">\n",
       "      <th></th>\n",
       "      <th>Test accuracy</th>\n",
       "      <th>F1 score</th>\n",
       "      <th>Total loss</th>\n",
       "    </tr>\n",
       "  </thead>\n",
       "  <tbody>\n",
       "    <tr>\n",
       "      <th>0</th>\n",
       "      <td>98.06</td>\n",
       "      <td>98.06</td>\n",
       "      <td>1.94</td>\n",
       "    </tr>\n",
       "  </tbody>\n",
       "</table>\n",
       "</div>"
      ],
      "text/plain": [
       "   Test accuracy  F1 score  Total loss\n",
       "0          98.06     98.06        1.94"
      ]
     },
     "execution_count": 63,
     "metadata": {
      "tags": []
     },
     "output_type": "execute_result"
    }
   ],
   "source": [
    "predictions = model.predict_classes(X_test)\n",
    "f1 = f1_score(y_test , predictions , average = 'micro')\n",
    "\n",
    "pred = model.predict_proba(X_test)\n",
    "roc = roc_auc_score(y_test , pred , multi_class = 'ovo')\n",
    "\n",
    "acc = accuracy_score(y_test , predictions)\n",
    "err = 1 - acc\n",
    "\n",
    "stat = pd.DataFrame({'Test accuracy' : round (acc*100, 3),\n",
    "                     'F1 score' : round(f1*100,3),\n",
    "                     'Total loss' : round(err*100,3)},\n",
    "                    index = [0])\n",
    "\n",
    "stat.head()"
   ]
  },
  {
   "cell_type": "code",
   "execution_count": 64,
   "metadata": {
    "colab": {
     "base_uri": "https://localhost:8080/"
    },
    "id": "ywGCYU0ZHdUu",
    "outputId": "b4ab1afb-a3a4-4c9d-a581-a8395feb6f7c"
   },
   "outputs": [
    {
     "data": {
      "text/plain": [
       "array([0])"
      ]
     },
     "execution_count": 64,
     "metadata": {
      "tags": []
     },
     "output_type": "execute_result"
    }
   ],
   "source": [
    "sample_one = np.expand_dims(X_test[13] , axis = 0)\n",
    "model.predict_classes(sample_one)"
   ]
  },
  {
   "cell_type": "code",
   "execution_count": 81,
   "metadata": {
    "colab": {
     "base_uri": "https://localhost:8080/",
     "height": 282
    },
    "id": "agmnkbvyIYP6",
    "outputId": "45a9e224-00c5-4ddf-dfcf-fe4f46a581b5"
   },
   "outputs": [
    {
     "data": {
      "text/plain": [
       "<matplotlib.image.AxesImage at 0x7f6dfbe6b470>"
      ]
     },
     "execution_count": 81,
     "metadata": {
      "tags": []
     },
     "output_type": "execute_result"
    },
    {
     "data": {
      "image/png": "[encoded data removed]",
      "text/plain": [
       "<Figure size 432x288 with 1 Axes>"
      ]
     },
     "metadata": {
      "needs_background": "light",
      "tags": []
     },
     "output_type": "display_data"
    }
   ],
   "source": [
    "plt.imshow(X_test[8].reshape(28,28))"
   ]
  },
  {
   "cell_type": "code",
   "execution_count": null,
   "metadata": {
    "id": "7OReqllxIeMB"
   },
   "outputs": [],
   "source": []
  }
 ],
 "metadata": {
  "colab": {
   "collapsed_sections": [],
   "name": "MNIST ANN",
   "provenance": []
  },
  "kernelspec": {
   "display_name": "Python 3",
   "language": "python",
   "name": "python3"
  },
  "language_info": {
   "codemirror_mode": {
    "name": "ipython",
    "version": 3
   },
   "file_extension": ".py",
   "mimetype": "text/x-python",
   "name": "python",
   "nbconvert_exporter": "python",
   "pygments_lexer": "ipython3",
   "version": "3.7.6"
  }
 },
 "nbformat": 4,
 "nbformat_minor": 1
}
